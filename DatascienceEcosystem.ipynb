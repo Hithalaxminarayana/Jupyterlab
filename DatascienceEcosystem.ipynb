{
 "cells": [
  {
   "cell_type": "code",
   "execution_count": 1,
   "id": "92cdde12",
   "metadata": {},
   "outputs": [],
   "source": [
    "#Create markdown cell with title of the notebook"
   ]
  },
  {
   "cell_type": "markdown",
   "id": "4c2e807c",
   "metadata": {},
   "source": [
    "<h1>Data Science Tools and Ecosystem<h1>"
   ]
  },
  {
   "cell_type": "code",
   "execution_count": 2,
   "id": "c2018fb2",
   "metadata": {},
   "outputs": [],
   "source": [
    "#Create a markdown cell for an introduction"
   ]
  },
  {
   "cell_type": "markdown",
   "id": "f9986fdd",
   "metadata": {},
   "source": [
    "In this notebook, Data Science Tools and Ecosystem are summarized."
   ]
  },
  {
   "cell_type": "markdown",
   "id": "15432cc9",
   "metadata": {},
   "source": [
    "Objectives:"
   ]
  },
  {
   "cell_type": "markdown",
   "id": "d52d67ca",
   "metadata": {},
   "source": [
    "1. Knowledge about working using jupyter\n",
    "2. Knowledge about tools useful in datascience"
   ]
  },
  {
   "cell_type": "code",
   "execution_count": 4,
   "id": "f5192f10",
   "metadata": {},
   "outputs": [],
   "source": [
    "#Create a markdown cell to list data science languages with ordered list"
   ]
  },
  {
   "cell_type": "markdown",
   "id": "0e932409",
   "metadata": {},
   "source": [
    "Some of the popular languages that Data Scientists use are:"
   ]
  },
  {
   "cell_type": "markdown",
   "id": "cd6d2ed7",
   "metadata": {},
   "source": [
    "1. Python\n",
    "2. Sql\n",
    "3. R"
   ]
  },
  {
   "cell_type": "code",
   "execution_count": 2,
   "id": "f17c62e7",
   "metadata": {},
   "outputs": [],
   "source": [
    "#Unordered list"
   ]
  },
  {
   "cell_type": "markdown",
   "id": "291e6a73",
   "metadata": {},
   "source": [
    "-Python\n",
    "-Sql\n",
    "-R"
   ]
  },
  {
   "cell_type": "code",
   "execution_count": 5,
   "id": "6e47eb43",
   "metadata": {},
   "outputs": [],
   "source": [
    "#Create a markdown cell to list data science libraries with ordered list"
   ]
  },
  {
   "cell_type": "markdown",
   "id": "e9b4a20f",
   "metadata": {},
   "source": [
    "Some of the commonly used libraries used by Data Scientists include:"
   ]
  },
  {
   "cell_type": "markdown",
   "id": "7e0ad146",
   "metadata": {},
   "source": [
    "1. NumPy\n",
    "2. Pandas\n",
    "3. SciPy"
   ]
  },
  {
   "cell_type": "code",
   "execution_count": 6,
   "id": "5a396dda",
   "metadata": {},
   "outputs": [],
   "source": [
    "#Create a markdown cell with a table of Data Science tools"
   ]
  },
  {
   "cell_type": "markdown",
   "id": "e857138e",
   "metadata": {},
   "source": [
    "| Data Science Tools |\n",
    "| -------------|\n",
    "| Jupyter |\n",
    "| RStudio\n",
    "| Scala| "
   ]
  },
  {
   "cell_type": "code",
   "execution_count": 7,
   "id": "482acb8b",
   "metadata": {},
   "outputs": [],
   "source": [
    "#Create a markdown cell introducing arithmetic expression examples"
   ]
  },
  {
   "cell_type": "markdown",
   "id": "84161ab0",
   "metadata": {},
   "source": [
    "<h3>Below are a few examples of evaluating arithmetic expressions in Python<h3>"
   ]
  },
  {
   "cell_type": "code",
   "execution_count": 8,
   "id": "b0d507cc",
   "metadata": {},
   "outputs": [],
   "source": [
    "#Create a code cell to multiply and add numbers"
   ]
  },
  {
   "cell_type": "code",
   "execution_count": 9,
   "id": "f2c4c5fa",
   "metadata": {},
   "outputs": [
    {
     "data": {
      "text/plain": [
       "17"
      ]
     },
     "execution_count": 9,
     "metadata": {},
     "output_type": "execute_result"
    }
   ],
   "source": [
    "#This a simple arithmetic expression to mutiply then add integers\n",
    "(3*4)+5"
   ]
  },
  {
   "cell_type": "code",
   "execution_count": 10,
   "id": "db142c4b",
   "metadata": {},
   "outputs": [],
   "source": [
    "#Create a code cell to convert minutes to hours"
   ]
  },
  {
   "cell_type": "code",
   "execution_count": 12,
   "id": "5e0aabc0",
   "metadata": {},
   "outputs": [
    {
     "name": "stdout",
     "output_type": "stream",
     "text": [
      "200 min to hours is  3 : 20\n"
     ]
    }
   ],
   "source": [
    "#This will convert 200 minutes to hours by diving by 60\n",
    "min = 200\n",
    "print(\"200 min to hours is \", int(min/60), \":\", min % 60)"
   ]
  },
  {
   "cell_type": "code",
   "execution_count": 3,
   "id": "43850a83",
   "metadata": {},
   "outputs": [],
   "source": [
    "#Create a markdown cell to indicate the Author's name"
   ]
  },
  {
   "cell_type": "markdown",
   "id": "0447e7a8",
   "metadata": {},
   "source": [
    "<h2>Author<h2>"
   ]
  },
  {
   "cell_type": "markdown",
   "id": "762720dd",
   "metadata": {},
   "source": [
    "Hitha L"
   ]
  },
  {
   "cell_type": "code",
   "execution_count": null,
   "id": "1b30b604",
   "metadata": {},
   "outputs": [],
   "source": []
  }
 ],
 "metadata": {
  "kernelspec": {
   "display_name": "Python 3 (ipykernel)",
   "language": "python",
   "name": "python3"
  },
  "language_info": {
   "codemirror_mode": {
    "name": "ipython",
    "version": 3
   },
   "file_extension": ".py",
   "mimetype": "text/x-python",
   "name": "python",
   "nbconvert_exporter": "python",
   "pygments_lexer": "ipython3",
   "version": "3.11.4"
  }
 },
 "nbformat": 4,
 "nbformat_minor": 5
}
